{
 "cells": [
  {
   "cell_type": "markdown",
   "id": "30b05253",
   "metadata": {},
   "source": [
    "1. DATASET"
   ]
  },
  {
   "cell_type": "code",
   "execution_count": 40,
   "id": "6eb233fd",
   "metadata": {},
   "outputs": [],
   "source": [
    "from sklearn import datasets\n",
    "iris = datasets.load_iris()\n",
    "X = iris.data\n",
    "y = iris.target"
   ]
  },
  {
   "cell_type": "code",
   "execution_count": 41,
   "id": "9f43c93a",
   "metadata": {},
   "outputs": [
    {
     "name": "stdout",
     "output_type": "stream",
     "text": [
      "Banyaknya data:  150\n"
     ]
    }
   ],
   "source": [
    "print(\"Banyaknya data: \",len(X))"
   ]
  },
  {
   "cell_type": "code",
   "execution_count": 42,
   "id": "44946617",
   "metadata": {},
   "outputs": [
    {
     "name": "stdout",
     "output_type": "stream",
     "text": [
      "15 data pertama: \n",
      "[[5.1 3.5 1.4 0.2]\n",
      " [4.9 3.  1.4 0.2]\n",
      " [4.7 3.2 1.3 0.2]\n",
      " [4.6 3.1 1.5 0.2]\n",
      " [5.  3.6 1.4 0.2]\n",
      " [5.4 3.9 1.7 0.4]\n",
      " [4.6 3.4 1.4 0.3]\n",
      " [5.  3.4 1.5 0.2]\n",
      " [4.4 2.9 1.4 0.2]\n",
      " [4.9 3.1 1.5 0.1]\n",
      " [5.4 3.7 1.5 0.2]\n",
      " [4.8 3.4 1.6 0.2]\n",
      " [4.8 3.  1.4 0.1]\n",
      " [4.3 3.  1.1 0.1]\n",
      " [5.8 4.  1.2 0.2]]\n"
     ]
    }
   ],
   "source": [
    "print(\"15 data pertama: \")\n",
    "print(X[:15])"
   ]
  },
  {
   "cell_type": "markdown",
   "id": "42c93686",
   "metadata": {},
   "source": [
    "2. SPLIT DATA"
   ]
  },
  {
   "cell_type": "code",
   "execution_count": 43,
   "id": "ed0dac73",
   "metadata": {},
   "outputs": [],
   "source": [
    "from sklearn.model_selection import train_test_split\n",
    "X_train, X_test, y_train, y_test = train_test_split(X,y,train_size=0.7)"
   ]
  },
  {
   "cell_type": "code",
   "execution_count": 44,
   "id": "47646342",
   "metadata": {},
   "outputs": [
    {
     "name": "stdout",
     "output_type": "stream",
     "text": [
      "Banyaknya data latih:  105\n",
      "Banyaknya data tes:  45\n"
     ]
    }
   ],
   "source": [
    "print(\"Banyaknya data latih: \", len(X_train))\n",
    "print(\"Banyaknya data tes: \", len(X_test))"
   ]
  },
  {
   "cell_type": "markdown",
   "id": "fc4a040e",
   "metadata": {},
   "source": [
    "3. K-FOLD"
   ]
  },
  {
   "cell_type": "code",
   "execution_count": 45,
   "id": "af6019b0",
   "metadata": {},
   "outputs": [
    {
     "name": "stdout",
     "output_type": "stream",
     "text": [
      "Akurasi SVM untuk setiap fold:  [0.96666667 1.         0.96666667 0.96666667 1.        ]\n",
      "Akurasi SVM dengan 5-fold:  0.9800000000000001\n"
     ]
    }
   ],
   "source": [
    "from sklearn.model_selection import cross_val_score\n",
    "from sklearn.svm import SVC\n",
    "\n",
    "model = SVC(kernel='linear', C=1)\n",
    "scores = cross_val_score(model, X, y, cv = 5)\n",
    "\n",
    "print(\"Akurasi SVM untuk setiap fold: \", scores)\n",
    "print(\"Akurasi SVM dengan 5-fold: \", scores.mean())"
   ]
  },
  {
   "cell_type": "markdown",
   "id": "0881e448",
   "metadata": {},
   "source": [
    "### UJICOBA MODEL KLASIFIKASI"
   ]
  },
  {
   "cell_type": "markdown",
   "id": "de15407f",
   "metadata": {},
   "source": [
    "1. KNN"
   ]
  },
  {
   "cell_type": "markdown",
   "id": "cd572d63",
   "metadata": {},
   "source": [
    "Sumber bacaan: https://scikit-learn.org/stable/modules/generated/sklearn.neighbors.KNeighborsClassifier.html#sklearn.neighbors.KNeighborsClassifier"
   ]
  },
  {
   "cell_type": "code",
   "execution_count": 46,
   "id": "53495017",
   "metadata": {},
   "outputs": [
    {
     "name": "stdout",
     "output_type": "stream",
     "text": [
      "Akurasi model KNN sebesar:  0.9777777777777777\n"
     ]
    }
   ],
   "source": [
    "from sklearn.neighbors import KNeighborsClassifier\n",
    "from sklearn import metrics\n",
    "\n",
    "knn = KNeighborsClassifier()\n",
    "\n",
    "knn.fit(X_train, y_train)\n",
    "y_pred = knn.predict(X_test)\n",
    "score = metrics.accuracy_score(y_test, y_pred)\n",
    "print(\"Akurasi model KNN sebesar: \", score)"
   ]
  },
  {
   "cell_type": "markdown",
   "id": "0b9d7aa2",
   "metadata": {},
   "source": [
    "2. D-TREE"
   ]
  },
  {
   "cell_type": "markdown",
   "id": "86c78e2b",
   "metadata": {},
   "source": [
    "Sumber bacaan: https://scikit-learn.org/stable/modules/generated/sklearn.tree.DecisionTreeClassifier.html#sklearn.tree.DecisionTreeClassifier"
   ]
  },
  {
   "cell_type": "code",
   "execution_count": 47,
   "id": "f8c548c4",
   "metadata": {},
   "outputs": [
    {
     "name": "stdout",
     "output_type": "stream",
     "text": [
      "Akurasi model D-Tree sebesar:  0.9555555555555556\n"
     ]
    }
   ],
   "source": [
    "from sklearn.tree import DecisionTreeClassifier\n",
    "from sklearn import metrics\n",
    "\n",
    "dt = DecisionTreeClassifier(max_depth = None, min_samples_split = 2)\n",
    "\n",
    "dt.fit(X_train, y_train)\n",
    "y_pred = dt.predict(X_test)\n",
    "score = metrics.accuracy_score(y_test, y_pred)\n",
    "print(\"Akurasi model D-Tree sebesar: \", score)"
   ]
  },
  {
   "cell_type": "code",
   "execution_count": 48,
   "id": "6e24a2f1",
   "metadata": {},
   "outputs": [
    {
     "name": "stdout",
     "output_type": "stream",
     "text": [
      "Akurasi model D-Tree sebesar:  0.7111111111111111\n"
     ]
    }
   ],
   "source": [
    "#hyper parameter\n",
    "dt = DecisionTreeClassifier(max_depth = 1, min_samples_split = 2)\n",
    "\n",
    "dt.fit(X_train, y_train)\n",
    "y_pred = dt.predict(X_test)\n",
    "score = metrics.accuracy_score(y_test, y_pred)\n",
    "print(\"Akurasi model D-Tree sebesar: \", score)"
   ]
  },
  {
   "cell_type": "markdown",
   "id": "521065f8",
   "metadata": {},
   "source": [
    "3. SVM"
   ]
  },
  {
   "cell_type": "markdown",
   "id": "980c277b",
   "metadata": {},
   "source": [
    "Sumber bacaan: https://scikit-learn.org/stable/modules/generated/sklearn.svm.SVC.html"
   ]
  },
  {
   "cell_type": "code",
   "execution_count": 49,
   "id": "8abea88f",
   "metadata": {},
   "outputs": [
    {
     "name": "stdout",
     "output_type": "stream",
     "text": [
      "Akurasi model SVM sebesar:  1.0\n"
     ]
    }
   ],
   "source": [
    "from sklearn.svm import SVC\n",
    "from sklearn import metrics\n",
    "\n",
    "svm = SVC(kernel='rbf', C=1, gamma=0.01)\n",
    "\n",
    "svm.fit(X_train, y_train)\n",
    "y_pred = svm.predict(X_test)\n",
    "score = metrics.accuracy_score(y_test, y_pred)\n",
    "print(\"Akurasi model SVM sebesar: \", score)"
   ]
  },
  {
   "cell_type": "code",
   "execution_count": 50,
   "id": "34b88213",
   "metadata": {},
   "outputs": [
    {
     "name": "stdout",
     "output_type": "stream",
     "text": [
      "Akurasi model SVM sebesar:  0.9777777777777777\n"
     ]
    }
   ],
   "source": [
    "#hyper parameter\n",
    "svmLinear = SVC(kernel='linear', C=1)\n",
    "\n",
    "svmLinear.fit(X_train, y_train)\n",
    "y_pred = svmLinear.predict(X_test)\n",
    "score = metrics.accuracy_score(y_test, y_pred)\n",
    "print(\"Akurasi model SVM sebesar: \", score)"
   ]
  },
  {
   "cell_type": "markdown",
   "id": "aeeac901",
   "metadata": {},
   "source": [
    "4. Logistic Regression"
   ]
  },
  {
   "cell_type": "markdown",
   "id": "0805e7f9",
   "metadata": {},
   "source": [
    "Sumber bacaan: https://scikit-learn.org/stable/modules/generated/sklearn.linear_model.LogisticRegression.html"
   ]
  },
  {
   "cell_type": "code",
   "execution_count": 51,
   "id": "9a127e2e",
   "metadata": {},
   "outputs": [
    {
     "name": "stdout",
     "output_type": "stream",
     "text": [
      "Akurasi model Logistic Regression sebesar:  0.9777777777777777\n"
     ]
    }
   ],
   "source": [
    "from sklearn.linear_model import LogisticRegression\n",
    "from sklearn import metrics\n",
    "\n",
    "lr = LogisticRegression()\n",
    "\n",
    "lr.fit(X_train, y_train)\n",
    "y_pred = lr.predict(X_test)\n",
    "score = metrics.accuracy_score(y_test, y_pred)\n",
    "print(\"Akurasi model Logistic Regression sebesar: \", score)"
   ]
  },
  {
   "cell_type": "markdown",
   "id": "11ac6e63",
   "metadata": {},
   "source": [
    "5. Naive Bayes"
   ]
  },
  {
   "cell_type": "markdown",
   "id": "dba184e4",
   "metadata": {},
   "source": [
    "Sumber bacaan: https://scikit-learn.org/stable/modules/generated/sklearn.naive_bayes.BernoulliNB.html#sklearn.naive_bayes.BernoulliNB"
   ]
  },
  {
   "cell_type": "code",
   "execution_count": 52,
   "id": "0cbe4ee1",
   "metadata": {},
   "outputs": [
    {
     "name": "stdout",
     "output_type": "stream",
     "text": [
      "Akurasi model Naive Bayes BernoulliNB sebesar:  0.26666666666666666\n"
     ]
    }
   ],
   "source": [
    "from sklearn.naive_bayes import BernoulliNB\n",
    "from sklearn import metrics\n",
    "\n",
    "nb = BernoulliNB()\n",
    "\n",
    "nb.fit(X_train, y_train)\n",
    "y_pred = nb.predict(X_test)\n",
    "score = metrics.accuracy_score(y_test, y_pred)\n",
    "print(\"Akurasi model Naive Bayes BernoulliNB sebesar: \", score)"
   ]
  }
 ],
 "metadata": {
  "kernelspec": {
   "display_name": "Python 3",
   "language": "python",
   "name": "python3"
  },
  "language_info": {
   "codemirror_mode": {
    "name": "ipython",
    "version": 3
   },
   "file_extension": ".py",
   "mimetype": "text/x-python",
   "name": "python",
   "nbconvert_exporter": "python",
   "pygments_lexer": "ipython3",
   "version": "3.8.8"
  }
 },
 "nbformat": 4,
 "nbformat_minor": 5
}
