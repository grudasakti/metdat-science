{
 "cells": [
  {
   "cell_type": "raw",
   "id": "b8f66252",
   "metadata": {},
   "source": [
    "1. DATASET"
   ]
  },
  {
   "cell_type": "code",
   "execution_count": 40,
   "id": "3a054290",
   "metadata": {},
   "outputs": [],
   "source": [
    "from sklearn import datasets\n",
    "iris = datasets.load_iris()\n",
    "X = iris.data\n",
    "y = iris.target"
   ]
  },
  {
   "cell_type": "code",
   "execution_count": 41,
   "id": "db30709e",
   "metadata": {},
   "outputs": [
    {
     "name": "stdout",
     "output_type": "stream",
     "text": [
      "Banyaknya data:  150\n"
     ]
    }
   ],
   "source": [
    "print(\"Banyaknya data: \",len(X))"
   ]
  },
  {
   "cell_type": "code",
   "execution_count": 42,
   "id": "c9fa1616",
   "metadata": {},
   "outputs": [
    {
     "name": "stdout",
     "output_type": "stream",
     "text": [
      "15 data pertama: \n",
      "[[5.1 3.5 1.4 0.2]\n",
      " [4.9 3.  1.4 0.2]\n",
      " [4.7 3.2 1.3 0.2]\n",
      " [4.6 3.1 1.5 0.2]\n",
      " [5.  3.6 1.4 0.2]\n",
      " [5.4 3.9 1.7 0.4]\n",
      " [4.6 3.4 1.4 0.3]\n",
      " [5.  3.4 1.5 0.2]\n",
      " [4.4 2.9 1.4 0.2]\n",
      " [4.9 3.1 1.5 0.1]\n",
      " [5.4 3.7 1.5 0.2]\n",
      " [4.8 3.4 1.6 0.2]\n",
      " [4.8 3.  1.4 0.1]\n",
      " [4.3 3.  1.1 0.1]\n",
      " [5.8 4.  1.2 0.2]]\n"
     ]
    }
   ],
   "source": [
    "print(\"15 data pertama: \")\n",
    "print(X[:15])"
   ]
  },
  {
   "cell_type": "raw",
   "id": "f82c617a",
   "metadata": {},
   "source": [
    "2. SPLIT DATA"
   ]
  },
  {
   "cell_type": "code",
   "execution_count": 43,
   "id": "1436f8db",
   "metadata": {},
   "outputs": [],
   "source": [
    "from sklearn.model_selection import train_test_split\n",
    "X_train, X_test, y_train, y_test = train_test_split(X,y,train_size=0.7)"
   ]
  },
  {
   "cell_type": "code",
   "execution_count": 44,
   "id": "20efd480",
   "metadata": {},
   "outputs": [
    {
     "name": "stdout",
     "output_type": "stream",
     "text": [
      "Banyaknya data latih:  105\n",
      "Banyaknya data tes:  45\n"
     ]
    }
   ],
   "source": [
    "print(\"Banyaknya data latih: \", len(X_train))\n",
    "print(\"Banyaknya data tes: \", len(X_test))"
   ]
  },
  {
   "cell_type": "raw",
   "id": "00c0b3b3",
   "metadata": {},
   "source": [
    "3. K-FOLD"
   ]
  },
  {
   "cell_type": "code",
   "execution_count": 45,
   "id": "dfdff5ed",
   "metadata": {},
   "outputs": [
    {
     "name": "stdout",
     "output_type": "stream",
     "text": [
      "Akurasi SVM untuk setiap fold:  [0.96666667 1.         0.96666667 0.96666667 1.        ]\n",
      "Akurasi SVM dengan 5-fold:  0.9800000000000001\n"
     ]
    }
   ],
   "source": [
    "from sklearn.model_selection import cross_val_score\n",
    "from sklearn.svm import SVC\n",
    "\n",
    "model = SVC(kernel='linear', C=1)\n",
    "scores = cross_val_score(model, X, y, cv = 5)\n",
    "\n",
    "print(\"Akurasi SVM untuk setiap fold: \", scores)\n",
    "print(\"Akurasi SVM dengan 5-fold: \", scores.mean())"
   ]
  },
  {
   "cell_type": "raw",
   "id": "f3522c09",
   "metadata": {},
   "source": [
    "UJICOBA MODEL KLASIFIKASI"
   ]
  },
  {
   "cell_type": "raw",
   "id": "a1c34fb7",
   "metadata": {},
   "source": [
    "1. KNN\n",
    "Sumber bacaan: https://scikit-learn.org/stable/modules/generated/sklearn.neighbors.KNeighborsClassifier.html#sklearn.neighbors.KNeighborsClassifier"
   ]
  },
  {
   "cell_type": "code",
   "execution_count": 46,
   "id": "ed3cae56",
   "metadata": {},
   "outputs": [
    {
     "name": "stdout",
     "output_type": "stream",
     "text": [
      "Akurasi model KNN sebesar:  0.9777777777777777\n"
     ]
    }
   ],
   "source": [
    "from sklearn.neighbors import KNeighborsClassifier\n",
    "from sklearn import metrics\n",
    "\n",
    "knn = KNeighborsClassifier()\n",
    "\n",
    "knn.fit(X_train, y_train)\n",
    "y_pred = knn.predict(X_test)\n",
    "score = metrics.accuracy_score(y_test, y_pred)\n",
    "print(\"Akurasi model KNN sebesar: \", score)"
   ]
  },
  {
   "cell_type": "raw",
   "id": "535b54be",
   "metadata": {},
   "source": [
    "2. D-TREE\n",
    "Sumber bacaan: https://scikit-learn.org/stable/modules/generated/sklearn.tree.DecisionTreeClassifier.html#sklearn.tree.DecisionTreeClassifier"
   ]
  },
  {
   "cell_type": "code",
   "execution_count": 47,
   "id": "8dd01837",
   "metadata": {},
   "outputs": [
    {
     "name": "stdout",
     "output_type": "stream",
     "text": [
      "Akurasi model D-Tree sebesar:  0.9555555555555556\n"
     ]
    }
   ],
   "source": [
    "from sklearn.tree import DecisionTreeClassifier\n",
    "from sklearn import metrics\n",
    "\n",
    "dt = DecisionTreeClassifier(max_depth = None, min_samples_split = 2)\n",
    "\n",
    "dt.fit(X_train, y_train)\n",
    "y_pred = dt.predict(X_test)\n",
    "score = metrics.accuracy_score(y_test, y_pred)\n",
    "print(\"Akurasi model D-Tree sebesar: \", score)"
   ]
  },
  {
   "cell_type": "code",
   "execution_count": 48,
   "id": "dd17f185",
   "metadata": {},
   "outputs": [
    {
     "name": "stdout",
     "output_type": "stream",
     "text": [
      "Akurasi model D-Tree sebesar:  0.7111111111111111\n"
     ]
    }
   ],
   "source": [
    "#hyper parameter\n",
    "dt = DecisionTreeClassifier(max_depth = 1, min_samples_split = 2)\n",
    "\n",
    "dt.fit(X_train, y_train)\n",
    "y_pred = dt.predict(X_test)\n",
    "score = metrics.accuracy_score(y_test, y_pred)\n",
    "print(\"Akurasi model D-Tree sebesar: \", score)"
   ]
  },
  {
   "cell_type": "raw",
   "id": "5178635f",
   "metadata": {},
   "source": [
    "3. SVM\n",
    "Sumber bacaan: https://scikit-learn.org/stable/modules/generated/sklearn.svm.SVC.html"
   ]
  },
  {
   "cell_type": "code",
   "execution_count": 49,
   "id": "9c758832",
   "metadata": {},
   "outputs": [
    {
     "name": "stdout",
     "output_type": "stream",
     "text": [
      "Akurasi model SVM sebesar:  1.0\n"
     ]
    }
   ],
   "source": [
    "from sklearn.svm import SVC\n",
    "from sklearn import metrics\n",
    "\n",
    "svm = SVC(kernel='rbf', C=1, gamma=0.01)\n",
    "\n",
    "svm.fit(X_train, y_train)\n",
    "y_pred = svm.predict(X_test)\n",
    "score = metrics.accuracy_score(y_test, y_pred)\n",
    "print(\"Akurasi model SVM sebesar: \", score)"
   ]
  },
  {
   "cell_type": "code",
   "execution_count": 50,
   "id": "c53b46fb",
   "metadata": {},
   "outputs": [
    {
     "name": "stdout",
     "output_type": "stream",
     "text": [
      "Akurasi model SVM sebesar:  0.9777777777777777\n"
     ]
    }
   ],
   "source": [
    "#hyper parameter\n",
    "svmLinear = SVC(kernel='linear', C=1)\n",
    "\n",
    "svmLinear.fit(X_train, y_train)\n",
    "y_pred = svmLinear.predict(X_test)\n",
    "score = metrics.accuracy_score(y_test, y_pred)\n",
    "print(\"Akurasi model SVM sebesar: \", score)"
   ]
  },
  {
   "cell_type": "raw",
   "id": "a1df664d",
   "metadata": {},
   "source": [
    "4. Logistic Regression\n",
    "Sumber bacaan: https://scikit-learn.org/stable/modules/generated/sklearn.linear_model.LogisticRegression.html"
   ]
  },
  {
   "cell_type": "code",
   "execution_count": 51,
   "id": "5db2c7b1",
   "metadata": {},
   "outputs": [
    {
     "name": "stdout",
     "output_type": "stream",
     "text": [
      "Akurasi model Logistic Regression sebesar:  0.9777777777777777\n"
     ]
    }
   ],
   "source": [
    "from sklearn.linear_model import LogisticRegression\n",
    "from sklearn import metrics\n",
    "\n",
    "lr = LogisticRegression()\n",
    "\n",
    "lr.fit(X_train, y_train)\n",
    "y_pred = lr.predict(X_test)\n",
    "score = metrics.accuracy_score(y_test, y_pred)\n",
    "print(\"Akurasi model Logistic Regression sebesar: \", score)"
   ]
  },
  {
   "cell_type": "raw",
   "id": "ab1b4d8d",
   "metadata": {},
   "source": [
    "5. Naive Bayes\n",
    "Sumber bacaan: https://scikit-learn.org/stable/modules/generated/sklearn.naive_bayes.BernoulliNB.html#sklearn.naive_bayes.BernoulliNB"
   ]
  },
  {
   "cell_type": "code",
   "execution_count": 52,
   "id": "c5519c9b",
   "metadata": {},
   "outputs": [
    {
     "name": "stdout",
     "output_type": "stream",
     "text": [
      "Akurasi model Naive Bayes BernoulliNB sebesar:  0.26666666666666666\n"
     ]
    }
   ],
   "source": [
    "from sklearn.naive_bayes import BernoulliNB\n",
    "from sklearn import metrics\n",
    "\n",
    "nb = BernoulliNB()\n",
    "\n",
    "nb.fit(X_train, y_train)\n",
    "y_pred = nb.predict(X_test)\n",
    "score = metrics.accuracy_score(y_test, y_pred)\n",
    "print(\"Akurasi model Naive Bayes BernoulliNB sebesar: \", score)"
   ]
  }
 ],
 "metadata": {
  "kernelspec": {
   "display_name": "Python 3",
   "language": "python",
   "name": "python3"
  },
  "language_info": {
   "codemirror_mode": {
    "name": "ipython",
    "version": 3
   },
   "file_extension": ".py",
   "mimetype": "text/x-python",
   "name": "python",
   "nbconvert_exporter": "python",
   "pygments_lexer": "ipython3",
   "version": "3.8.8"
  }
 },
 "nbformat": 4,
 "nbformat_minor": 5
}
